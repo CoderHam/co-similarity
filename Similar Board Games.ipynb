{
 "cells": [
  {
   "cell_type": "markdown",
   "id": "d7df860b",
   "metadata": {
    "tags": []
   },
   "source": [
    "# Board Game Similarity Search\n",
    "\n",
    "### Use descriptions of Board Games from [Board Game Geek](https://boardgamegeek.com/browse/boardgame) website to find similar board games"
   ]
  },
  {
   "cell_type": "markdown",
   "id": "87388a51-9a9c-4318-a60e-70450317bc9a",
   "metadata": {},
   "source": [
    "### Why?\n",
    "\n",
    "How often have you found yourself not able to find the right board game for you? This scales to video games, books and movies as well. The proposal here is to use language embedding based similarity search to do a search:\n",
    "\n",
    "1. For a board game similar to game X.\n",
    "2. For a board game that makes a specific description. (Finally!)"
   ]
  },
  {
   "cell_type": "code",
   "execution_count": 1,
   "id": "c48d6046-bcbb-41be-b894-947fd24f4383",
   "metadata": {},
   "outputs": [],
   "source": [
    "import pandas as pd\n",
    "import numpy as np\n",
    "import similarity_search\n",
    "from IPython.display import HTML"
   ]
  },
  {
   "cell_type": "code",
   "execution_count": 2,
   "id": "c12839e6-002d-46fb-8908-27bec10bcc38",
   "metadata": {},
   "outputs": [],
   "source": [
    "# top 2000 board games\n",
    "bg_df = pd.read_csv(\"bgg_2000.csv\")"
   ]
  },
  {
   "cell_type": "code",
   "execution_count": 3,
   "id": "8979b0a6-c984-48b3-ae8c-46c1f4ae2779",
   "metadata": {},
   "outputs": [],
   "source": [
    "def pretty_show(game_ranks):\n",
    "    img_urls = bg_df.loc[game_ranks, 'thumbnail'].to_list()\n",
    "    game_urls = bg_df.loc[game_ranks, 'url'].to_list()\n",
    "    return img_urls, game_urls\n",
    "\n",
    "def get_html_code(img_urls, game_urls):\n",
    "    html_code =\"\"\"\n",
    "<style>\n",
    "    img {\n",
    "        float: left;\n",
    "        padding: 8px;\n",
    "    }\n",
    "</style>\n",
    "    \"\"\"\n",
    "    for img_url, game_url in zip(img_urls, game_urls):\n",
    "        html_code += \"\"\"\n",
    "<a href=\"%s\"><img src=\"%s\" style=\"width: 300px; height: 300px;\"></a>\n",
    "        \"\"\" % (game_url, img_url)\n",
    "\n",
    "    return html_code"
   ]
  },
  {
   "cell_type": "code",
   "execution_count": 4,
   "id": "6d2b66c6-b9ab-4787-8627-cf15367f2f6d",
   "metadata": {},
   "outputs": [
    {
     "name": "stdout",
     "output_type": "stream",
     "text": [
      "Games similar to -> Skull\n",
      "-----\n",
      "Abalone\n",
      "Tussie Mussie\n",
      "Turn the Tide\n",
      "Timeline: Events\n",
      "Timeline: General Interest\n",
      "Timeline: Discoveries\n",
      "Timeline: Music & Cinema\n",
      "Timeline Challenge\n",
      "Gùgōng\n"
     ]
    }
   ],
   "source": [
    "# enter rank - 1 for the selected game\n",
    "selected_game_rank = 396\n",
    "results = similarity_search.get_similar_from_game(selected_game_rank, k=9)\n",
    "\n",
    "game_names = bg_df.loc[results, 'name'].to_list()\n",
    "print(\"Games similar to ->\", bg_df.loc[selected_game_rank, 'name'])\n",
    "print('-----')\n",
    "print('\\n'.join(game_names))"
   ]
  },
  {
   "cell_type": "code",
   "execution_count": 5,
   "id": "d2f0e69c-fcbb-467c-977f-e7b47ee6dda8",
   "metadata": {},
   "outputs": [
    {
     "data": {
      "text/html": [
       "\n",
       "<style>\n",
       "    img {\n",
       "        float: left;\n",
       "        padding: 8px;\n",
       "    }\n",
       "</style>\n",
       "    \n",
       "<a href=\"https://boardgamegeek.com/boardgame/92415/skull\"><img src=\"https://cf.geekdo-images.com/OPrd2iXm43dir7BwKAMOuQ__previewthumb/img/gXs-4P-J6s8mW4CrYr_135Mcp2c=/fit-in/300x320/filters:strip_icc()/pic6097488.jpg\" style=\"width: 300px; height: 300px;\"></a>\n",
       "        "
      ],
      "text/plain": [
       "<IPython.core.display.HTML object>"
      ]
     },
     "execution_count": 5,
     "metadata": {},
     "output_type": "execute_result"
    }
   ],
   "source": [
    "img_urls, game_urls = pretty_show([selected_game_rank])\n",
    "HTML(get_html_code(img_urls, game_urls))"
   ]
  },
  {
   "cell_type": "code",
   "execution_count": 6,
   "id": "6d56f027-e841-453c-b1e4-07cce7a50d83",
   "metadata": {},
   "outputs": [
    {
     "data": {
      "text/html": [
       "\n",
       "<style>\n",
       "    img {\n",
       "        float: left;\n",
       "        padding: 8px;\n",
       "    }\n",
       "</style>\n",
       "    \n",
       "<a href=\"https://boardgamegeek.com/boardgame/526/abalone\"><img src=\"https://cf.geekdo-images.com/UzH1jAlqYUH9VEq2Wtvzjw__previewthumb/img/B6yawLQEKHIFLXtYWCOpuACSwAs=/fit-in/300x320/filters:strip_icc()/pic5253079.jpg\" style=\"width: 300px; height: 300px;\"></a>\n",
       "        \n",
       "<a href=\"https://boardgamegeek.com/boardgame/257614/tussie-mussie\"><img src=\"https://cf.geekdo-images.com/bOTxzLrmwptfbAre3JnS3w__previewthumb/img/wA0pIVRLIjIN-mLIQLpARL8fRho=/fit-in/300x320/filters:strip_icc()/pic5456717.png\" style=\"width: 300px; height: 300px;\"></a>\n",
       "        \n",
       "<a href=\"https://boardgamegeek.com/boardgame/1403/turn-tide\"><img src=\"https://cf.geekdo-images.com/lg2cZmqHCdBWuYMFqnYHoA__previewthumb/img/hox6DmnsekdBFYKFsgBCan2aq40=/fit-in/300x320/filters:strip_icc()/pic725351.jpg\" style=\"width: 300px; height: 300px;\"></a>\n",
       "        \n",
       "<a href=\"https://boardgamegeek.com/boardgame/113401/timeline-events\"><img src=\"https://cf.geekdo-images.com/V-LCKnzAZvzdim9_PMPGpw__previewthumb/img/66O2uGmQ-JK0wV98yPWVuWhPDS8=/fit-in/300x320/filters:strip_icc()/pic5872050.jpg\" style=\"width: 300px; height: 300px;\"></a>\n",
       "        \n",
       "<a href=\"https://boardgamegeek.com/boardgame/131325/timeline-general-interest\"><img src=\"https://cf.geekdo-images.com/MZeH8PXB9vn_dlcI7xyrKw__previewthumb/img/SaVuamZT7hfu4s8es-XZccaM_wQ=/fit-in/300x320/filters:strip_icc()/pic2374186.jpg\" style=\"width: 300px; height: 300px;\"></a>\n",
       "        \n",
       "<a href=\"https://boardgamegeek.com/boardgame/99975/timeline-discoveries\"><img src=\"https://cf.geekdo-images.com/uc54FvZTrpUs3WZlYyDQRA__previewthumb/img/iQSXQBqJdbJUoQ-rvdkDhYYjpfM=/fit-in/300x320/filters:strip_icc()/pic1724655.jpg\" style=\"width: 300px; height: 300px;\"></a>\n",
       "        \n",
       "<a href=\"https://boardgamegeek.com/boardgame/145189/timeline-music-cinema\"><img src=\"https://cf.geekdo-images.com/UcaJ2YzblMDZ7qFBcX10uA__previewthumb/img/a3Xd3Hq0zUvQpH-fxr7l3owo5V8=/fit-in/300x320/filters:strip_icc()/pic1875068.jpg\" style=\"width: 300px; height: 300px;\"></a>\n",
       "        \n",
       "<a href=\"https://boardgamegeek.com/boardgame/173156/timeline-challenge\"><img src=\"https://cf.geekdo-images.com/khqcxX_Qwjk876SXNGMNYQ__previewthumb/img/fY7veurC8T3ORbTcIX1moikWoz4=/fit-in/300x320/filters:strip_icc()/pic2815954.jpg\" style=\"width: 300px; height: 300px;\"></a>\n",
       "        \n",
       "<a href=\"https://boardgamegeek.com/boardgame/250458/gugng\"><img src=\"https://cf.geekdo-images.com/HJ263_vhLJ58QUWPvMVbEg__previewthumb/img/-wKpWVoRFWbk304_t-2uvfigvQA=/fit-in/300x320/filters:strip_icc()/pic4143114.jpg\" style=\"width: 300px; height: 300px;\"></a>\n",
       "        "
      ],
      "text/plain": [
       "<IPython.core.display.HTML object>"
      ]
     },
     "execution_count": 6,
     "metadata": {},
     "output_type": "execute_result"
    }
   ],
   "source": [
    "img_urls, game_urls = pretty_show(results)\n",
    "HTML(get_html_code(img_urls, game_urls))"
   ]
  },
  {
   "cell_type": "code",
   "execution_count": 7,
   "id": "592f8926-8f6c-42fe-b1c0-2afe42ca58df",
   "metadata": {},
   "outputs": [],
   "source": [
    "import cohere\n",
    "import os\n",
    "API_KEY = os.getenv('COHERE_API_KEY')\n",
    "co = cohere.Client(API_KEY)"
   ]
  },
  {
   "cell_type": "code",
   "execution_count": 8,
   "id": "21f6d576-1119-4ebc-a6dc-934bc3d174ff",
   "metadata": {},
   "outputs": [],
   "source": [
    "def get_embed_from_sentence(sentences):\n",
    "    response = co.embed(model='small', texts=sentences)\n",
    "    return response.embeddings"
   ]
  },
  {
   "cell_type": "code",
   "execution_count": 9,
   "id": "c09df0dd-3f43-4e24-a855-08542bb7d5cf",
   "metadata": {},
   "outputs": [
    {
     "name": "stdout",
     "output_type": "stream",
     "text": [
      "Games with descriptions similar to -> \" railway build across United States \"\n",
      "-----\n",
      "Ride the Rails\n",
      "Age of Steam\n",
      "American Rails\n",
      "Ticket to Ride\n",
      "Catan Histories: Settlers of America – Trails to Rails\n",
      "Chicago Express\n",
      "Whistle Stop\n",
      "Steam\n"
     ]
    }
   ],
   "source": [
    "# sentence = \"campaign with permanent changes\"\n",
    "# sentence = \"two teams card game where a person gives clues\"\n",
    "# sentence = \"Esacpe the dungeon with the gold\"\n",
    "sentence = \"railway build across United States\"\n",
    "query_embeds = get_embed_from_sentence([sentence])\n",
    "results = similarity_search.get_similar_from_embeds(query_embeds, 8)\n",
    "game_names = bg_df.loc[results, 'name'].to_list()\n",
    "print(\"Games with descriptions similar to -> \\\"\", sentence,\"\\\"\")\n",
    "print('-----')\n",
    "print('\\n'.join(game_names))"
   ]
  },
  {
   "cell_type": "code",
   "execution_count": 10,
   "id": "9f377879-5bff-4494-9cf8-dc90b7fbf5c9",
   "metadata": {},
   "outputs": [
    {
     "data": {
      "text/html": [
       "\n",
       "<style>\n",
       "    img {\n",
       "        float: left;\n",
       "        padding: 8px;\n",
       "    }\n",
       "</style>\n",
       "    \n",
       "<a href=\"https://boardgamegeek.com/boardgame/297486/ride-rails\"><img src=\"https://cf.geekdo-images.com/u9jmUMClCRb-GVCIyN5oVg__previewthumb/img/pDm5oIXzg1WRVlPVq6tPXLHLZZ8=/fit-in/300x320/filters:strip_icc()/pic5160528.jpg\" style=\"width: 300px; height: 300px;\"></a>\n",
       "        \n",
       "<a href=\"https://boardgamegeek.com/boardgame/4098/age-steam\"><img src=\"https://cf.geekdo-images.com/gBPzZsgm9nrUYVfdK216NA__previewthumb/img/BZjCiXjO2_qvqqF_LnLC570lIxo=/fit-in/300x320/filters:strip_icc()/pic4557340.png\" style=\"width: 300px; height: 300px;\"></a>\n",
       "        \n",
       "<a href=\"https://boardgamegeek.com/boardgame/41749/american-rails\"><img src=\"https://cf.geekdo-images.com/1pj6mBD81iVx2IrnS0Rt1Q__previewthumb/img/lZTdSgSLqsSoUJmmnVYYtDTUnDM=/fit-in/300x320/filters:strip_icc()/pic1754865.jpg\" style=\"width: 300px; height: 300px;\"></a>\n",
       "        \n",
       "<a href=\"https://boardgamegeek.com/boardgame/9209/ticket-ride\"><img src=\"https://cf.geekdo-images.com/ZWJg0dCdrWHxVnc0eFXK8w__previewthumb/img/KCjRK-Li64B5ueeyz0oTAGuhbig=/fit-in/300x320/filters:strip_icc()/pic38668.jpg\" style=\"width: 300px; height: 300px;\"></a>\n",
       "        \n",
       "<a href=\"https://boardgamegeek.com/boardgame/67239/catan-histories-settlers-america-trails-rails\"><img src=\"https://cf.geekdo-images.com/B8fqE_j_yfNmVkkwv5Tk6Q__previewthumb/img/iAGiJqR-wLgDQlHeUdmnZwjnI3M=/fit-in/300x320/filters:strip_icc()/pic4819010.png\" style=\"width: 300px; height: 300px;\"></a>\n",
       "        \n",
       "<a href=\"https://boardgamegeek.com/boardgame/31730/chicago-express\"><img src=\"https://cf.geekdo-images.com/HxNSmn6fyauR4ABzBZpnMQ__previewthumb/img/81qmwhVmz9y2w068hwcjhPSXZvs=/fit-in/300x320/filters:strip_icc()/pic1566274.jpg\" style=\"width: 300px; height: 300px;\"></a>\n",
       "        \n",
       "<a href=\"https://boardgamegeek.com/boardgame/221318/whistle-stop\"><img src=\"https://cf.geekdo-images.com/lqMkVVt-crNAadXFzL1Rnw__previewthumb/img/WPIgird1FqDtD3IcVMpZlKT0fo8=/fit-in/300x320/filters:strip_icc()/pic3472683.jpg\" style=\"width: 300px; height: 300px;\"></a>\n",
       "        \n",
       "<a href=\"https://boardgamegeek.com/boardgame/27833/steam\"><img src=\"https://cf.geekdo-images.com/IB38fOp0mTvFuvfdHczf0Q__previewthumb/img/NgUxcHyP_2b3LgBTVpcV_cOUeMA=/fit-in/300x320/filters:strip_icc()/pic392515.jpg\" style=\"width: 300px; height: 300px;\"></a>\n",
       "        "
      ],
      "text/plain": [
       "<IPython.core.display.HTML object>"
      ]
     },
     "execution_count": 10,
     "metadata": {},
     "output_type": "execute_result"
    }
   ],
   "source": [
    "img_urls, game_urls = pretty_show(results)\n",
    "HTML(get_html_code(img_urls, game_urls))"
   ]
  },
  {
   "cell_type": "markdown",
   "id": "b9644029-2e81-4426-8097-5e1fd6ceb35e",
   "metadata": {},
   "source": [
    "### Other websites that can use this\n",
    "\n",
    "1. Medium and other blog websites\n",
    "2. NY Times and other newspaper websites\n",
    "3. Instagram for product placement based on content of a post\n",
    "4. Highlight a sentence anywhere and search for a specific domain"
   ]
  }
 ],
 "metadata": {
  "kernelspec": {
   "display_name": "Python 3 (ipykernel)",
   "language": "python",
   "name": "python3"
  },
  "language_info": {
   "codemirror_mode": {
    "name": "ipython",
    "version": 3
   },
   "file_extension": ".py",
   "mimetype": "text/x-python",
   "name": "python",
   "nbconvert_exporter": "python",
   "pygments_lexer": "ipython3",
   "version": "3.8.10"
  },
  "vscode": {
   "interpreter": {
    "hash": "31f2aee4e71d21fbe5cf8b01ff0e069b9275f58929596ceb00d14d90e3e16cd6"
   }
  }
 },
 "nbformat": 4,
 "nbformat_minor": 5
}
