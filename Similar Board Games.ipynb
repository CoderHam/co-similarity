{
 "cells": [
  {
   "cell_type": "markdown",
   "id": "d7df860b",
   "metadata": {
    "tags": []
   },
   "source": [
    "# Board Game Similarity Search\n",
    "\n",
    "### Use descriptions of Board Games from [Board Game Geek](https://boardgamegeek.com/browse/boardgame) website to find similar board games"
   ]
  },
  {
   "cell_type": "code",
   "execution_count": 1,
   "id": "c48d6046-bcbb-41be-b894-947fd24f4383",
   "metadata": {},
   "outputs": [],
   "source": [
    "import pandas as pd\n",
    "import numpy as np\n",
    "import similarity_search\n",
    "from IPython.display import HTML"
   ]
  },
  {
   "cell_type": "code",
   "execution_count": 2,
   "id": "8979b0a6-c984-48b3-ae8c-46c1f4ae2779",
   "metadata": {},
   "outputs": [],
   "source": [
    "def pretty_show(game_ranks):\n",
    "    img_urls = bg_df.loc[game_ranks, 'thumbnail'].to_list()\n",
    "    game_urls = bg_df.loc[game_ranks, 'url'].to_list()\n",
    "    return img_urls, game_urls\n",
    "\n",
    "def get_html_code(img_urls, game_urls):\n",
    "    html_code =\"\"\"\n",
    "<style>\n",
    "    img {\n",
    "        float: left;\n",
    "        padding: 8px;\n",
    "    }\n",
    "</style>\n",
    "    \"\"\"\n",
    "    for img_url, game_url in zip(img_urls, game_urls):\n",
    "        html_code += \"\"\"\n",
    "<a href=\"%s\"><img src=\"%s\" style=\"width: 300px; height: 300px;\"></a>\n",
    "        \"\"\" % (game_url, img_url)\n",
    "\n",
    "    return html_code"
   ]
  },
  {
   "cell_type": "code",
   "execution_count": 3,
   "id": "c12839e6-002d-46fb-8908-27bec10bcc38",
   "metadata": {},
   "outputs": [],
   "source": [
    "# top 2000 board games\n",
    "bg_df = pd.read_csv(\"bgg_2000.csv\")"
   ]
  },
  {
   "cell_type": "code",
   "execution_count": 7,
   "id": "6d2b66c6-b9ab-4787-8627-cf15367f2f6d",
   "metadata": {},
   "outputs": [
    {
     "name": "stdout",
     "output_type": "stream",
     "text": [
      "Games similar to -> Century: Spice Road\n",
      "-----\n",
      "Québec\n",
      "The Voyages of Marco Polo\n",
      "Century: A New World\n",
      "Century: Eastern Wonders\n",
      "Century: Golem Edition\n",
      "Yspahan\n",
      "Kashgar: Merchants of the Silk Road\n"
     ]
    }
   ],
   "source": [
    "# enter rank - 1 for the selected game\n",
    "selected_game_rank = 285\n",
    "results = similarity_search.get_similar(selected_game_rank)[:9]\n",
    "game_names = bg_df.loc[results, 'name'].to_list()\n",
    "print(\"Games similar to ->\", bg_df.loc[selected_game_rank, 'name'])\n",
    "print('-----')\n",
    "print('\\n'.join(game_names))"
   ]
  },
  {
   "cell_type": "code",
   "execution_count": 8,
   "id": "d2f0e69c-fcbb-467c-977f-e7b47ee6dda8",
   "metadata": {},
   "outputs": [
    {
     "data": {
      "text/html": [
       "\n",
       "<style>\n",
       "    img {\n",
       "        float: left;\n",
       "        padding: 8px;\n",
       "    }\n",
       "</style>\n",
       "    \n",
       "<a href=\"https://boardgamegeek.com/boardgame/209685/century-spice-road\"><img src=\"https://cf.geekdo-images.com/0_KEDk4lCvryf1Ju3YQJxA__previewthumb/img/9l9xVCr8l2ejZXgo-D3HrXZyJio=/fit-in/300x320/filters:strip_icc()/pic3339551.jpg\" style=\"width: 300px; height: 300px;\"></a>\n",
       "        "
      ],
      "text/plain": [
       "<IPython.core.display.HTML object>"
      ]
     },
     "execution_count": 8,
     "metadata": {},
     "output_type": "execute_result"
    }
   ],
   "source": [
    "img_urls, game_urls = pretty_show([selected_game_rank])\n",
    "HTML(get_html_code(img_urls, game_urls))"
   ]
  },
  {
   "cell_type": "code",
   "execution_count": 9,
   "id": "6d56f027-e841-453c-b1e4-07cce7a50d83",
   "metadata": {},
   "outputs": [
    {
     "data": {
      "text/html": [
       "\n",
       "<style>\n",
       "    img {\n",
       "        float: left;\n",
       "        padding: 8px;\n",
       "    }\n",
       "</style>\n",
       "    \n",
       "<a href=\"https://boardgamegeek.com/boardgame/91984/quebec\"><img src=\"https://cf.geekdo-images.com/5a8L3N0-7qVbFC2dfksung__previewthumb/img/9IPmVi8koKi4zKFkO79YQyQ4kVs=/fit-in/300x320/filters:strip_icc()/pic1077693.jpg\" style=\"width: 300px; height: 300px;\"></a>\n",
       "        \n",
       "<a href=\"https://boardgamegeek.com/boardgame/171623/voyages-marco-polo\"><img src=\"https://cf.geekdo-images.com/n1G7_aWToLAAB7Mqt8iwyA__previewthumb/img/-Q4dOi4P6YsIoQGeH5gUk3jD8no=/fit-in/300x320/filters:strip_icc()/pic2461346.png\" style=\"width: 300px; height: 300px;\"></a>\n",
       "        \n",
       "<a href=\"https://boardgamegeek.com/boardgame/270970/century-new-world\"><img src=\"https://cf.geekdo-images.com/KJQ1TdlDkLeCfQ3PK75rTA__previewthumb/img/rQoqW97WaVeHS-oheE_9SrzGxLk=/fit-in/300x320/filters:strip_icc()/pic4547312.jpg\" style=\"width: 300px; height: 300px;\"></a>\n",
       "        \n",
       "<a href=\"https://boardgamegeek.com/boardgame/242574/century-eastern-wonders\"><img src=\"https://cf.geekdo-images.com/l1xKAcYniMJQNq60H5DdEA__previewthumb/img/LMmzkvfNiOpGAthxqPr_KbdinW8=/fit-in/300x320/filters:strip_icc()/pic3898507.jpg\" style=\"width: 300px; height: 300px;\"></a>\n",
       "        \n",
       "<a href=\"https://boardgamegeek.com/boardgame/232832/century-golem-edition\"><img src=\"https://cf.geekdo-images.com/1bihoShOuqaCuZJXB3Q2gQ__previewthumb/img/sHmDtygI5Ft6tZIKRjGLThVLtSY=/fit-in/300x320/filters:strip_icc()/pic3936124.jpg\" style=\"width: 300px; height: 300px;\"></a>\n",
       "        \n",
       "<a href=\"https://boardgamegeek.com/boardgame/22345/yspahan\"><img src=\"https://cf.geekdo-images.com/_hUX-wQKA7Y8NYLitCl3Kw__previewthumb/img/vStw1r3Ybkqb8KeNVbPvwJVD84E=/fit-in/300x320/filters:strip_icc()/pic244381.jpg\" style=\"width: 300px; height: 300px;\"></a>\n",
       "        \n",
       "<a href=\"https://boardgamegeek.com/boardgame/143175/kashgar-merchants-silk-road\"><img src=\"https://cf.geekdo-images.com/wEcuixeJMR4e1Jj85qRvWA__previewthumb/img/kA4Bu-GmX6pfAPdBxRNviq2EFZw=/fit-in/300x320/filters:strip_icc()/pic3697855.jpg\" style=\"width: 300px; height: 300px;\"></a>\n",
       "        "
      ],
      "text/plain": [
       "<IPython.core.display.HTML object>"
      ]
     },
     "execution_count": 9,
     "metadata": {},
     "output_type": "execute_result"
    }
   ],
   "source": [
    "img_urls, game_urls = pretty_show(results)\n",
    "HTML(get_html_code(img_urls, game_urls))"
   ]
  },
  {
   "cell_type": "code",
   "execution_count": null,
   "id": "592f8926-8f6c-42fe-b1c0-2afe42ca58df",
   "metadata": {},
   "outputs": [],
   "source": []
  }
 ],
 "metadata": {
  "kernelspec": {
   "display_name": "Python 3 (ipykernel)",
   "language": "python",
   "name": "python3"
  },
  "language_info": {
   "codemirror_mode": {
    "name": "ipython",
    "version": 3
   },
   "file_extension": ".py",
   "mimetype": "text/x-python",
   "name": "python",
   "nbconvert_exporter": "python",
   "pygments_lexer": "ipython3",
   "version": "3.8.10"
  },
  "vscode": {
   "interpreter": {
    "hash": "31f2aee4e71d21fbe5cf8b01ff0e069b9275f58929596ceb00d14d90e3e16cd6"
   }
  }
 },
 "nbformat": 4,
 "nbformat_minor": 5
}
